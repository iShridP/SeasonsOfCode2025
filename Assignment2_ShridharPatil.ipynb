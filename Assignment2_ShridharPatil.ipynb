{
 "cells": [
  {
   "cell_type": "markdown",
   "id": "d82f7e8a",
   "metadata": {},
   "source": [
    "# Assignment 1 SoC: Shridhar Patil"
   ]
  },
  {
   "cell_type": "markdown",
   "id": "4997b85f",
   "metadata": {},
   "source": [
    "We first implement the circuit and test for all 4 cases. Suppose Alice and Bob both have a qubit of the pair bell state (|00> + |11>)/sqrt(2). Alice applies some gates according to the bits she wants to send and sends this qubit over to Bob who applies the below implented circuits and measures outcomes to see bits Alice had to send. "
   ]
  },
  {
   "cell_type": "markdown",
   "id": "af453e64",
   "metadata": {},
   "source": [
    "We want to test to see if the 4 possible states Bob has give the correct cooresponding bits Alice wanted to send.\n",
    "\n"
   ]
  },
  {
   "cell_type": "markdown",
   "id": "9dbcdc4c",
   "metadata": {},
   "source": [
    "$$\n",
    "\\begin{array}{|c|c|c|}\n",
    "\\hline\n",
    "\\textbf{Bits to send} & \\textbf{Gates Alice Applies on her Qubit} & \\textbf{Final Quantum State} \\\\\n",
    "\\hline\n",
    "00 & I & \\frac{\\ket{00} + \\ket{11}}{\\sqrt{2}} \\\\\n",
    "\\hline\n",
    "01 & Z & \\frac{\\ket{00} - \\ket{11}}{\\sqrt{2}} \\\\\n",
    "\\hline\n",
    "10 & X & \\frac{\\ket{10} + \\ket{01}}{\\sqrt{2}} \\\\\n",
    "\\hline\n",
    "11 & iY & \\frac{\\ket{01} - \\ket{10}}{\\sqrt{2}} \\\\\n",
    "\\hline\n",
    "\\end{array}\n",
    "$$\n",
    "\n",
    "**Table: Sequence of Gates in Superdense Coding**\n"
   ]
  },
  {
   "cell_type": "code",
   "execution_count": 1,
   "id": "cc88734b",
   "metadata": {},
   "outputs": [
    {
     "data": {
      "text/latex": [
       "$$\n",
       "\n",
       "\\begin{bmatrix}\n",
       "\\frac{\\sqrt{2}}{2} & 0 & 0 & \\frac{\\sqrt{2}}{2}  \\\\\n",
       " \\end{bmatrix}\n",
       "$$"
      ],
      "text/plain": [
       "<IPython.core.display.Latex object>"
      ]
     },
     "metadata": {},
     "output_type": "display_data"
    },
    {
     "data": {
      "text/latex": [
       "$$\n",
       "\n",
       "\\begin{bmatrix}\n",
       "\\frac{\\sqrt{2}}{2} & 0 & 0 & - \\frac{\\sqrt{2}}{2}  \\\\\n",
       " \\end{bmatrix}\n",
       "$$"
      ],
      "text/plain": [
       "<IPython.core.display.Latex object>"
      ]
     },
     "metadata": {},
     "output_type": "display_data"
    },
    {
     "data": {
      "text/latex": [
       "$$\n",
       "\n",
       "\\begin{bmatrix}\n",
       "0 & \\frac{\\sqrt{2}}{2} & \\frac{\\sqrt{2}}{2} & 0  \\\\\n",
       " \\end{bmatrix}\n",
       "$$"
      ],
      "text/plain": [
       "<IPython.core.display.Latex object>"
      ]
     },
     "metadata": {},
     "output_type": "display_data"
    },
    {
     "data": {
      "text/latex": [
       "$$\n",
       "\n",
       "\\begin{bmatrix}\n",
       "0 & - \\frac{\\sqrt{2}}{2} & \\frac{\\sqrt{2}}{2} & 0  \\\\\n",
       " \\end{bmatrix}\n",
       "$$"
      ],
      "text/plain": [
       "<IPython.core.display.Latex object>"
      ]
     },
     "metadata": {},
     "output_type": "display_data"
    }
   ],
   "source": [
    "from qiskit.quantum_info import Statevector\n",
    "\n",
    "from qiskit import QuantumCircuit\n",
    "\n",
    "from qiskit.visualization import array_to_latex\n",
    "\n",
    "state_00 = Statevector.from_int(0,2**2) #creates state |00>\n",
    "state_01 = Statevector.from_int(1,2**2)\n",
    "state_10 = Statevector.from_int(2,2**2)\n",
    "state_11 = Statevector.from_int(3,2**2)\n",
    "\n",
    "\n",
    "bell_circuit = QuantumCircuit(2)\n",
    "\n",
    "bell_circuit.h(0)\n",
    "\n",
    "bell_circuit.cx(0,1)\n",
    "\n",
    "bell_state_00 = state_00.evolve(bell_circuit)\n",
    "bell_state_01 = state_01.evolve(bell_circuit)\n",
    "bell_state_10 = state_10.evolve(bell_circuit)\n",
    "bell_state_11 = state_11.evolve(bell_circuit)\n",
    "\n",
    "from qiskit.visualization import array_to_latex\n",
    "\n",
    "display(array_to_latex(bell_state_00.data))\n",
    "display(array_to_latex(bell_state_01.data))\n",
    "display(array_to_latex(bell_state_10.data))\n",
    "display(array_to_latex(bell_state_11.data))\n"
   ]
  },
  {
   "cell_type": "markdown",
   "id": "1d8d65d5",
   "metadata": {},
   "source": [
    "The 4 possible states Bob can recieve in superdense coding are prepared with basis |00> , |01> , |10>, |11>. We now check the circuit Bob has to see if he can retrieve the bits. "
   ]
  },
  {
   "cell_type": "code",
   "execution_count": null,
   "id": "46c65cb1",
   "metadata": {},
   "outputs": [
    {
     "data": {
      "image/png": "[encoded data removed]",
      "text/plain": [
       "<Figure size 705.35x284.278 with 1 Axes>"
      ]
     },
     "execution_count": 2,
     "metadata": {},
     "output_type": "execute_result"
    }
   ],
   "source": [
    "superdense_circuit = QuantumCircuit(2,2) \n",
    "\n",
    "superdense_circuit.initialize(bell_state_00.data, [0, 1])  #Suppose Bob recieved state 00\n",
    "\n",
    "superdense_circuit.cx(0,1)\n",
    "\n",
    "superdense_circuit.h(0)\n",
    "\n",
    "superdense_circuit.barrier(range(2))\n",
    "\n",
    "superdense_circuit.measure(range(2), range(2))\n",
    "\n",
    "superdense_circuit.draw('mpl')"
   ]
  },
  {
   "cell_type": "markdown",
   "id": "923f7f08",
   "metadata": {},
   "source": [
    "This is Bobs circuit to identify the states"
   ]
  },
  {
   "cell_type": "code",
   "execution_count": 3,
   "id": "8e39bb36",
   "metadata": {},
   "outputs": [
    {
     "name": "stdout",
     "output_type": "stream",
     "text": [
      "{'00': 1024}\n"
     ]
    }
   ],
   "source": [
    "from qiskit import transpile \n",
    "\n",
    "from qiskit_aer import AerSimulator \n",
    "\n",
    "backend = AerSimulator()\n",
    "\n",
    "superdense_circuit_transpiled = transpile(superdense_circuit, backend) #transpile the circuit according to AerSimulator backend simulator\n",
    "\n",
    "job_sim = backend.run(superdense_circuit_transpiled, shots = 1024)\n",
    "\n",
    "result_sim = job_sim.result()\n",
    "\n",
    "count = result_sim.get_counts(superdense_circuit_transpiled) \n",
    "\n",
    "print(count)"
   ]
  },
  {
   "cell_type": "code",
   "execution_count": 4,
   "id": "26eb0a76",
   "metadata": {},
   "outputs": [
    {
     "data": {
      "image/png": "[encoded data removed]",
      "text/plain": [
       "<Figure size 640x480 with 1 Axes>"
      ]
     },
     "execution_count": 4,
     "metadata": {},
     "output_type": "execute_result"
    }
   ],
   "source": [
    "from qiskit.visualization import plot_histogram\n",
    "plot_histogram(count)"
   ]
  },
  {
   "cell_type": "markdown",
   "id": "c073a73a",
   "metadata": {},
   "source": [
    "We see, as expected, since Bob has the 00 bell state (As Alice did nothing as she wanted to transmit 00), we get a full observation of 00 (ideally). We can check with other states as well:\n"
   ]
  },
  {
   "cell_type": "code",
   "execution_count": null,
   "id": "d3e7b102",
   "metadata": {},
   "outputs": [
    {
     "data": {
      "image/png": "[encoded data removed]",
      "text/plain": [
       "<Figure size 788.961x284.278 with 1 Axes>"
      ]
     },
     "execution_count": 5,
     "metadata": {},
     "output_type": "execute_result"
    }
   ],
   "source": [
    "superdense_circuit = QuantumCircuit(2,2) \n",
    "\n",
    "superdense_circuit.initialize(bell_state_11.data, [0, 1])  #Initialised to 11 bell state when alice has to transmit 11\n",
    "\n",
    "superdense_circuit.cx(0,1)\n",
    "\n",
    "superdense_circuit.h(0)\n",
    "\n",
    "superdense_circuit.barrier(range(2))\n",
    "\n",
    "superdense_circuit.measure(range(2), range(2))\n",
    "\n",
    "superdense_circuit.draw('mpl')"
   ]
  },
  {
   "cell_type": "code",
   "execution_count": 6,
   "id": "d103d60e",
   "metadata": {},
   "outputs": [
    {
     "name": "stdout",
     "output_type": "stream",
     "text": [
      "{'11': 1024}\n"
     ]
    }
   ],
   "source": [
    "from qiskit import transpile \n",
    "\n",
    "from qiskit_aer import AerSimulator \n",
    "\n",
    "backend = AerSimulator()\n",
    "\n",
    "superdense_circuit_transpiled = transpile(superdense_circuit, backend) #transpile the circuit according to AerSimulator backend simulator\n",
    "\n",
    "job_sim = backend.run(superdense_circuit_transpiled, shots = 1024)\n",
    "\n",
    "result_sim = job_sim.result()\n",
    "\n",
    "count = result_sim.get_counts(superdense_circuit_transpiled) \n",
    "\n",
    "print(count)"
   ]
  },
  {
   "cell_type": "code",
   "execution_count": 7,
   "id": "809e21ce",
   "metadata": {},
   "outputs": [
    {
     "data": {
      "image/png": "[encoded data removed]",
      "text/plain": [
       "<Figure size 640x480 with 1 Axes>"
      ]
     },
     "execution_count": 7,
     "metadata": {},
     "output_type": "execute_result"
    }
   ],
   "source": [
    "from qiskit.visualization import plot_histogram\n",
    "plot_histogram(count)"
   ]
  },
  {
   "cell_type": "markdown",
   "id": "a619d0a4",
   "metadata": {},
   "source": [
    "As expected. We have checked the validity of our circuit for the 4 input states."
   ]
  },
  {
   "cell_type": "markdown",
   "id": "ce4a5f0c",
   "metadata": {},
   "source": [
    "## Real Quantum Hardware:"
   ]
  },
  {
   "cell_type": "code",
   "execution_count": 8,
   "id": "a4d5cab8",
   "metadata": {},
   "outputs": [
    {
     "name": "stderr",
     "output_type": "stream",
     "text": [
      "C:\\Users\\shrid\\AppData\\Local\\Temp\\ipykernel_39676\\3294505545.py:3: DeprecationWarning: The \"ibm_quantum\" channel option is deprecated and will be sunset on 1 July. After this date, ibm_cloud will be the only valid channel. For information on migrating to the new IBM Quantum Platform on the \"ibm_cloud\" channel, review the migration guide https://quantum.cloud.ibm.com/docs/migration-guides/classic-iqp-to-cloud-iqp .\n",
      "  service = QiskitRuntimeService()\n"
     ]
    },
    {
     "name": "stdout",
     "output_type": "stream",
     "text": [
      "<bound method QiskitRuntimeService.backends of <QiskitRuntimeService>>\n",
      "Name of assigned system: ibm_sherbrooke\n"
     ]
    }
   ],
   "source": [
    "from qiskit_ibm_runtime import QiskitRuntimeService\n",
    "\n",
    "service = QiskitRuntimeService()\n",
    "\n",
    "print(service.backends)\n",
    "\n",
    "backend = service.least_busy(operational = True, min_num_qubits=2)\n",
    "\n",
    "print(f\"Name of assigned system: {backend.name}\")"
   ]
  },
  {
   "cell_type": "code",
   "execution_count": 9,
   "id": "c18fcea0",
   "metadata": {},
   "outputs": [
    {
     "data": {
      "image/png": "[encoded data removed]",
      "text/plain": [
       "<Figure size 1463.58x284.278 with 1 Axes>"
      ]
     },
     "execution_count": 9,
     "metadata": {},
     "output_type": "execute_result"
    }
   ],
   "source": [
    "superdense_circuit_transpiled = transpile(superdense_circuit, backend, optimization_level= 2) #transpiled according to our connected system\n",
    "\n",
    "superdense_circuit_transpiled.draw('mpl')"
   ]
  },
  {
   "cell_type": "markdown",
   "id": "f04df36c",
   "metadata": {},
   "source": [
    "We have been assigned 2 qubits and 2 classical bits "
   ]
  },
  {
   "cell_type": "code",
   "execution_count": 11,
   "id": "acf17c61",
   "metadata": {},
   "outputs": [
    {
     "name": "stderr",
     "output_type": "stream",
     "text": [
      "c:\\Users\\shrid\\anaconda3\\envs\\qiskit\\Lib\\site-packages\\qiskit_ibm_runtime\\qiskit_runtime_service.py:875: UserWarning: IBM Quantum Platform is moving, and this version will be sunset on July 1. To get started on the new platform, read the migration guide at https://docs.quantum.ibm.com/migration-guides/classic-iqp-to-cloud-iqp\n",
      "  warnings.warn(warning_message)\n"
     ]
    },
    {
     "name": "stdout",
     "output_type": "stream",
     "text": [
      "{'11': 1015, '10': 3, '00': 1, '01': 5}\n"
     ]
    },
    {
     "data": {
      "image/png": "[encoded data removed]",
      "text/plain": [
       "<Figure size 640x480 with 1 Axes>"
      ]
     },
     "execution_count": 11,
     "metadata": {},
     "output_type": "execute_result"
    }
   ],
   "source": [
    "from qiskit_ibm_runtime import Sampler\n",
    "\n",
    "sample_object = Sampler(mode = backend)\n",
    "\n",
    "job = sample_object.run([superdense_circuit_transpiled], shots = 1024) #intialized to bell state of 11\n",
    "\n",
    "result = job.result()\n",
    "\n",
    "pub_result = result[0]\n",
    "\n",
    "print(pub_result.data.c.get_counts())\n",
    "\n",
    "plot_histogram(pub_result.data.c.get_counts())"
   ]
  },
  {
   "cell_type": "markdown",
   "id": "788a549c",
   "metadata": {},
   "source": [
    "We see that there is some noise present. Most of the qubits have been correctly identified as 11 although some have not.\n"
   ]
  },
  {
   "cell_type": "markdown",
   "id": "84f440d8",
   "metadata": {},
   "source": [
    "## Futuristic Superdense coding for Words"
   ]
  },
  {
   "cell_type": "code",
   "execution_count": null,
   "id": "5f8102ff",
   "metadata": {},
   "outputs": [
    {
     "name": "stdout",
     "output_type": "stream",
     "text": [
      "A message\n"
     ]
    }
   ],
   "source": [
    "def word_to_binary(word):\n",
    "    binary = ''.join(format(ord(c), '08b') for c in word)\n",
    "    return binary \n",
    "\n",
    "def binary_to_word(binary_str):\n",
    "    padded = binary_str.ljust((len(binary_str) + 7) // 8 * 8, '0')\n",
    "    return ''.join(chr(int(padded[i:i+8], 2)) for i in range(0, len(padded), 8))\n",
    "\n",
    "message = \"A message\"\n",
    "\n",
    "binary_message = word_to_binary(message)\n",
    "\n",
    "recieved_message_bits = ''\n",
    "\n",
    "# AerSimulator:\n",
    "\n",
    "backend = AerSimulator()\n",
    "\n",
    "for i in range(0,len(binary_message),2):\n",
    "\n",
    "    bit_a = binary_message[i]\n",
    "    bit_b = binary_message[i+1]\n",
    "    \n",
    "    #a and b are the two bits here\n",
    "\n",
    "    num = 2*int(bit_a) + int(bit_b)\n",
    "\n",
    "    qubit_bell_00 = state_00.evolve(bell_circuit) #prepares an entagled bell 00 state for that superdense coding bit pair\n",
    "\n",
    "    match num:\n",
    "        case 0:\n",
    "            #Do nothing to first qubit, just transport it. apply below circuit:\n",
    "\n",
    "            transported_state = qubit_bell_00\n",
    "\n",
    "        case 1:\n",
    "            #for transporting 01 state, we apply Z gate to qubit 1\n",
    "\n",
    "            z_gate_circuit = QuantumCircuit(2)\n",
    "\n",
    "            z_gate_circuit.z(0)\n",
    "\n",
    "            transported_state = qubit_bell_00.evolve(z_gate_circuit)\n",
    "\n",
    "        case 2:\n",
    "            #for transporting 10 state we apply X gate to qubit 1\n",
    "\n",
    "            x_gate_circuit = QuantumCircuit(2)\n",
    "\n",
    "            x_gate_circuit.x(0)\n",
    "\n",
    "            transported_state = qubit_bell_00.evolve(x_gate_circuit)\n",
    "\n",
    "        case 3:\n",
    "            #for case 11 we apply iY = ZX to qubit 2\n",
    "\n",
    "            zx_gate_circuit = QuantumCircuit(2)\n",
    "\n",
    "            zx_gate_circuit.x(0)\n",
    "\n",
    "            zx_gate_circuit.z(0)\n",
    "\n",
    "            transported_state = qubit_bell_00.evolve(zx_gate_circuit)\n",
    "\n",
    "    #decode message at final place\n",
    "\n",
    "    superdense_circuit = QuantumCircuit(2,2) \n",
    "\n",
    "    superdense_circuit.initialize(transported_state.data, [0, 1])  #Initialised to 11 bell state when alice has to transmit 11\n",
    "\n",
    "    superdense_circuit.cx(0,1)\n",
    "\n",
    "    superdense_circuit.h(0)\n",
    "\n",
    "    superdense_circuit.barrier(range(2))\n",
    "\n",
    "    superdense_circuit.measure(range(2), range(2)) #make measurement\n",
    "\n",
    "    superdense_circuit.draw('mpl')\n",
    "\n",
    "    superdense_circuit_transpiled = transpile(superdense_circuit, backend)\n",
    "\n",
    "    job_sim = backend.run(superdense_circuit_transpiled,shots = 1) # we physically can only run it once for a given superconducting pair\n",
    "\n",
    "    result_sim = job_sim.result()\n",
    "\n",
    "    counts = result_sim.get_counts()\n",
    "\n",
    "    bitstring = list(counts.keys())[0] #we get '00' '01' '10' or '11'\n",
    "\n",
    "    recieved_message_bits += bitstring\n",
    "\n",
    "recieved_word = binary_to_word(recieved_message_bits)\n",
    "\n",
    "print(recieved_word)\n",
    "\n"
   ]
  },
  {
   "cell_type": "markdown",
   "id": "3db1debe",
   "metadata": {},
   "source": [
    "We have successfully transported messages with superdense coding using AerSimulator. Now lets try Physically."
   ]
  },
  {
   "cell_type": "code",
   "execution_count": null,
   "id": "1df908f5",
   "metadata": {},
   "outputs": [],
   "source": [
    "def word_to_binary(word):\n",
    "    binary = ''.join(format(ord(c), '08b') for c in word)\n",
    "    return binary \n",
    "\n",
    "def binary_to_word(binary_str):\n",
    "    padded = binary_str.ljust((len(binary_str) + 7) // 8 * 8, '0')\n",
    "    return ''.join(chr(int(padded[i:i+8], 2)) for i in range(0, len(padded), 8))\n",
    "\n",
    "message = \"A message\"\n",
    "\n",
    "binary_message = word_to_binary(message)\n",
    "\n",
    "recieved_message_bits = ''\n",
    "\n",
    "#Physical logging:\n",
    "\n",
    "service = QiskitRuntimeService() #loads saved credentials \n",
    "\n",
    "backend = service.least_busy(operational = True, min_num_qubits= 2)\n",
    "\n",
    "print(f\"Name = {backend.name}, Version = {backend.version}, Number of Qubits ={backend.num_qubits}\")\n",
    "\n",
    "for i in range(0,len(binary_message),2):\n",
    "\n",
    "    bit_a = binary_message[i]\n",
    "    bit_b = binary_message[i+1]\n",
    "    \n",
    "    #a and b are the two bits here\n",
    "\n",
    "    num = 2*int(bit_a) + int(bit_b)\n",
    "\n",
    "    qubit_bell_00 = state_00.evolve(bell_circuit) #prepares an entagled bell 00 state for that superdense coding bit pair\n",
    "\n",
    "    match num:\n",
    "        case 0:\n",
    "            #Do nothing to first qubit, just transport it. apply below circuit:\n",
    "\n",
    "            transported_state = qubit_bell_00\n",
    "\n",
    "        case 1:\n",
    "            #for transporting 01 state, we apply Z gate to qubit 1\n",
    "\n",
    "            z_gate_circuit = QuantumCircuit(2)\n",
    "\n",
    "            z_gate_circuit.z(0)\n",
    "\n",
    "            transported_state = qubit_bell_00.evolve(z_gate_circuit)\n",
    "\n",
    "        case 2:\n",
    "            #for transporting 10 state we apply X gate to qubit 1\n",
    "\n",
    "            x_gate_circuit = QuantumCircuit(2)\n",
    "\n",
    "            x_gate_circuit.x(0)\n",
    "\n",
    "            transported_state = qubit_bell_00.evolve(x_gate_circuit)\n",
    "\n",
    "        case 3:\n",
    "            #for case 11 we apply iY = ZX to qubit 2\n",
    "\n",
    "            zx_gate_circuit = QuantumCircuit(2)\n",
    "\n",
    "            zx_gate_circuit.x(0)\n",
    "\n",
    "            zx_gate_circuit.z(0)\n",
    "\n",
    "            transported_state = qubit_bell_00.evolve(zx_gate_circuit)\n",
    "\n",
    "\n",
    "    #Decode message at final destination\n",
    "\n",
    "    superdense_circuit = QuantumCircuit(2,2) \n",
    "\n",
    "    superdense_circuit.initialize(transported_state.data, [0, 1])  #Initialised to 11 bell state when alice has to transmit 11\n",
    "\n",
    "    superdense_circuit.cx(0,1)\n",
    "\n",
    "    superdense_circuit.h(0)\n",
    "\n",
    "    superdense_circuit.barrier(range(2))\n",
    "\n",
    "    superdense_circuit.measure(range(2), range(2)) #make measurement\n",
    "\n",
    "    superdense_circuit.draw('mpl')\n",
    "\n",
    "    superdense_circuit_transpiled = transpile(superdense_circuit, backend, optimization_level=2)\n",
    "\n",
    "    sample_object = Sampler(mode = backend)\n",
    "\n",
    "    job = sample_object.run([superdense_circuit_transpiled], shots = 1) #Can be run only ONCE in reality since after measurement superdense pair destroyed\n",
    "\n",
    "    result = job.result()\n",
    "\n",
    "    counts = result.get_counts()\n",
    "\n",
    "    bitstring = list(counts.keys())[0]  # Only 1 key since 1 shot\n",
    "    \n",
    "    received_message_bits += bitstring\n",
    "\n",
    "recieved_word = binary_to_word(recieved_message_bits)\n",
    "\n",
    "print(recieved_word)\n",
    "\n",
    "    \n",
    "    "
   ]
  },
  {
   "cell_type": "markdown",
   "id": "cbafaf50",
   "metadata": {},
   "source": [
    "Now we simulate using a Noise AerSimulator"
   ]
  },
  {
   "cell_type": "code",
   "execution_count": null,
   "id": "09b422fd",
   "metadata": {},
   "outputs": [
    {
     "name": "stderr",
     "output_type": "stream",
     "text": [
      "C:\\Users\\shrid\\AppData\\Local\\Temp\\ipykernel_39676\\2519170446.py:19: DeprecationWarning: The \"ibm_quantum\" channel option is deprecated and will be sunset on 1 July. After this date, ibm_cloud will be the only valid channel. For information on migrating to the new IBM Quantum Platform on the \"ibm_cloud\" channel, review the migration guide https://quantum.cloud.ibm.com/docs/migration-guides/classic-iqp-to-cloud-iqp .\n",
      "  service = QiskitRuntimeService() #loads saved credentials\n"
     ]
    },
    {
     "name": "stdout",
     "output_type": "stream",
     "text": [
      "a mesSage\n"
     ]
    }
   ],
   "source": [
    "from qiskit_aer.noise import NoiseModel\n",
    "\n",
    "def word_to_binary(word):\n",
    "    binary = ''.join(format(ord(c), '08b') for c in word)\n",
    "    return binary \n",
    "\n",
    "def binary_to_word(binary_str):\n",
    "    padded = binary_str.ljust((len(binary_str) + 7) // 8 * 8, '0')\n",
    "    return ''.join(chr(int(padded[i:i+8], 2)) for i in range(0, len(padded), 8))\n",
    "\n",
    "message = \"A message\"\n",
    "\n",
    "binary_message = word_to_binary(message)\n",
    "\n",
    "recieved_message_bits = ''\n",
    "\n",
    "#Physical logging:\n",
    "\n",
    "service = QiskitRuntimeService() #loads saved credentials \n",
    "\n",
    "backend = service.least_busy(operational = True, min_num_qubits= 2)\n",
    "\n",
    "\n",
    "# AerSimulator with noise:\n",
    "\n",
    "noise_model_sim = NoiseModel.from_backend(backend)\n",
    "\n",
    "backend = AerSimulator(noise_model = noise_model_sim) #leaving empty gives ideal solution\n",
    "\n",
    "for i in range(0,len(binary_message),2):\n",
    "\n",
    "    bit_a = binary_message[i]\n",
    "    bit_b = binary_message[i+1]\n",
    "    \n",
    "    #a and b are the two bits here\n",
    "\n",
    "    num = 2*int(bit_a) + int(bit_b)\n",
    "\n",
    "    qubit_bell_00 = state_00.evolve(bell_circuit) #prepares an entagled bell 00 state for that superdense coding bit pair\n",
    "\n",
    "    match num:\n",
    "        case 0:\n",
    "            #Do nothing to first qubit, just transport it. apply below circuit:\n",
    "\n",
    "            transported_state = qubit_bell_00\n",
    "\n",
    "        case 1:\n",
    "            #for transporting 01 state, we apply Z gate to qubit 1\n",
    "\n",
    "            z_gate_circuit = QuantumCircuit(2)\n",
    "\n",
    "            z_gate_circuit.z(0)\n",
    "\n",
    "            transported_state = qubit_bell_00.evolve(z_gate_circuit)\n",
    "\n",
    "        case 2:\n",
    "            #for transporting 10 state we apply X gate to qubit 1\n",
    "\n",
    "            x_gate_circuit = QuantumCircuit(2)\n",
    "\n",
    "            x_gate_circuit.x(0)\n",
    "\n",
    "            transported_state = qubit_bell_00.evolve(x_gate_circuit)\n",
    "\n",
    "        case 3:\n",
    "            #for case 11 we apply iY = ZX to qubit 2\n",
    "\n",
    "            zx_gate_circuit = QuantumCircuit(2)\n",
    "\n",
    "            zx_gate_circuit.x(0)\n",
    "\n",
    "            zx_gate_circuit.z(0)\n",
    "\n",
    "            transported_state = qubit_bell_00.evolve(zx_gate_circuit)\n",
    "\n",
    "    #decode message at final place\n",
    "\n",
    "    superdense_circuit = QuantumCircuit(2,2) \n",
    "\n",
    "    superdense_circuit.initialize(transported_state.data, [0, 1])  #Initialised to 11 bell state when alice has to transmit 11\n",
    "\n",
    "    superdense_circuit.cx(0,1)\n",
    "\n",
    "    superdense_circuit.h(0)\n",
    "\n",
    "    superdense_circuit.barrier(range(2))\n",
    "\n",
    "    superdense_circuit.measure(range(2), range(2)) #make measurement\n",
    "\n",
    "    superdense_circuit.draw('mpl')\n",
    "\n",
    "    superdense_circuit_transpiled = transpile(superdense_circuit, backend)\n",
    "\n",
    "    job_sim = backend.run(superdense_circuit_transpiled,shots = 1) # we physically can only run it once for a given superconducting pair\n",
    "\n",
    "    result_sim = job_sim.result()\n",
    "\n",
    "    counts = result_sim.get_counts()\n",
    "\n",
    "    bitstring = list(counts.keys())[0] #we get '00' '01' '10' or '11'\n",
    "\n",
    "    recieved_message_bits += bitstring\n",
    "\n",
    "recieved_word = binary_to_word(recieved_message_bits)\n",
    "\n",
    "print(recieved_word)"
   ]
  },
  {
   "cell_type": "markdown",
   "id": "3b2f5fab",
   "metadata": {},
   "source": [
    "We can see the message is distorted because of noise simulated. yay.\n"
   ]
  },
  {
   "cell_type": "markdown",
   "id": "405989f4",
   "metadata": {},
   "source": [
    "Error mitigation with voting stuff:\n"
   ]
  },
  {
   "cell_type": "code",
   "execution_count": 26,
   "id": "4f424a84",
   "metadata": {},
   "outputs": [
    {
     "name": "stderr",
     "output_type": "stream",
     "text": [
      "C:\\Users\\shrid\\AppData\\Local\\Temp\\ipykernel_39676\\1384528312.py:21: DeprecationWarning: The \"ibm_quantum\" channel option is deprecated and will be sunset on 1 July. After this date, ibm_cloud will be the only valid channel. For information on migrating to the new IBM Quantum Platform on the \"ibm_cloud\" channel, review the migration guide https://quantum.cloud.ibm.com/docs/migration-guides/classic-iqp-to-cloud-iqp .\n",
      "  service = QiskitRuntimeService() #loads saved credentials\n"
     ]
    },
    {
     "name": "stdout",
     "output_type": "stream",
     "text": [
      "E masóage\n",
      "A messege\n",
      "\u0001 -esqcge\n",
      "@$mdsw!gu\n",
      "A Mescaçe\n",
      "\u0000 meysage\n",
      "A`messagd\n",
      "A message\n",
      "A messace\n",
      "A llssagd\n",
      "Final message is: A message\n"
     ]
    }
   ],
   "source": [
    "from qiskit_aer.noise import NoiseModel\n",
    "\n",
    "def word_to_binary(word):\n",
    "    binary = ''.join(format(ord(c), '08b') for c in word)\n",
    "    return binary \n",
    "\n",
    "def binary_to_word(binary_str):\n",
    "    padded = binary_str.ljust((len(binary_str) + 7) // 8 * 8, '0')\n",
    "    return ''.join(chr(int(padded[i:i+8], 2)) for i in range(0, len(padded), 8))\n",
    "\n",
    "message = \"A message\"\n",
    "\n",
    "binary_message = word_to_binary(message)\n",
    "\n",
    "recieved_message_bits = ''\n",
    "\n",
    "recieved_message_trials = []\n",
    "\n",
    "#Physical logging:\n",
    "\n",
    "service = QiskitRuntimeService() #loads saved credentials \n",
    "\n",
    "backend = service.least_busy(operational = True, min_num_qubits= 2)\n",
    "\n",
    "\n",
    "# AerSimulator with noise:\n",
    "\n",
    "noise_model_sim = NoiseModel.from_backend(backend)\n",
    "\n",
    "backend = AerSimulator(noise_model = noise_model_sim) #leaving empty gives ideal solution\n",
    "\n",
    "for j in range(10):\n",
    "\n",
    "    for i in range(0,len(binary_message),2):\n",
    "\n",
    "        bit_a = binary_message[i]\n",
    "        bit_b = binary_message[i+1]\n",
    "        \n",
    "        #a and b are the two bits here\n",
    "\n",
    "        num = 2*int(bit_a) + int(bit_b)\n",
    "\n",
    "        qubit_bell_00 = state_00.evolve(bell_circuit) #prepares an entagled bell 00 state for that superdense coding bit pair\n",
    "\n",
    "        match num:\n",
    "            case 0:\n",
    "                #Do nothing to first qubit, just transport it. apply below circuit:\n",
    "\n",
    "                transported_state = qubit_bell_00\n",
    "\n",
    "            case 1:\n",
    "                #for transporting 01 state, we apply Z gate to qubit 1\n",
    "\n",
    "                z_gate_circuit = QuantumCircuit(2)\n",
    "\n",
    "                z_gate_circuit.z(0)\n",
    "\n",
    "                transported_state = qubit_bell_00.evolve(z_gate_circuit)\n",
    "\n",
    "            case 2:\n",
    "                #for transporting 10 state we apply X gate to qubit 1\n",
    "\n",
    "                x_gate_circuit = QuantumCircuit(2)\n",
    "\n",
    "                x_gate_circuit.x(0)\n",
    "\n",
    "                transported_state = qubit_bell_00.evolve(x_gate_circuit)\n",
    "\n",
    "            case 3:\n",
    "                #for case 11 we apply iY = ZX to qubit 2\n",
    "\n",
    "                zx_gate_circuit = QuantumCircuit(2)\n",
    "\n",
    "                zx_gate_circuit.x(0)\n",
    "\n",
    "                zx_gate_circuit.z(0)\n",
    "\n",
    "                transported_state = qubit_bell_00.evolve(zx_gate_circuit)\n",
    "\n",
    "        #decode message at final place\n",
    "\n",
    "        superdense_circuit = QuantumCircuit(2,2) \n",
    "\n",
    "        superdense_circuit.initialize(transported_state.data, [0, 1])  #Initialised to 11 bell state when alice has to transmit 11\n",
    "\n",
    "        superdense_circuit.cx(0,1)\n",
    "\n",
    "        superdense_circuit.h(0)\n",
    "\n",
    "        superdense_circuit.barrier(range(2))\n",
    "\n",
    "        superdense_circuit.measure(range(2), range(2)) #make measurement\n",
    "\n",
    "        superdense_circuit.draw('mpl')\n",
    "\n",
    "        superdense_circuit_transpiled = transpile(superdense_circuit, backend)\n",
    "\n",
    "        job_sim = backend.run(superdense_circuit_transpiled,shots = 1) # we physically can only run it once for a given superconducting pair\n",
    "\n",
    "        result_sim = job_sim.result()\n",
    "\n",
    "        counts = result_sim.get_counts()\n",
    "\n",
    "        bitstring = list(counts.keys())[0] #we get '00' '01' '10' or '11'\n",
    "\n",
    "        recieved_message_bits += bitstring\n",
    "\n",
    "    recieved_word = binary_to_word(recieved_message_bits)\n",
    "\n",
    "    print(recieved_word)\n",
    "\n",
    "    recieved_message_trials.append(recieved_word)\n",
    "\n",
    "    recieved_word = ''\n",
    "\n",
    "    recieved_message_bits = ''\n",
    "\n",
    "from collections import Counter\n",
    "\n",
    "def votin(L):\n",
    "    \n",
    "    winner = Counter(L).most_common(1)[0][0]\n",
    "\n",
    "    return winner\n",
    "\n",
    "final_message = ''\n",
    "\n",
    "for j in range(len(recieved_message_trials[0])):\n",
    "\n",
    "    candidates = []\n",
    "\n",
    "    for word in recieved_message_trials:\n",
    "        candidates.append(word[j])\n",
    "\n",
    "    winner = votin(candidates)\n",
    "\n",
    "    final_message += winner\n",
    "\n",
    "print(f\"Final message is: {final_message}\")\n",
    "\n"
   ]
  },
  {
   "cell_type": "markdown",
   "id": "32eca741",
   "metadata": {},
   "source": [
    "We can see that by sending the superdense bit mutiple times, 10 here, we can improve accuracy to almost certinity."
   ]
  }
 ],
 "metadata": {
  "kernelspec": {
   "display_name": "qiskit",
   "language": "python",
   "name": "python3"
  },
  "language_info": {
   "codemirror_mode": {
    "name": "ipython",
    "version": 3
   },
   "file_extension": ".py",
   "mimetype": "text/x-python",
   "name": "python",
   "nbconvert_exporter": "python",
   "pygments_lexer": "ipython3",
   "version": "3.13.2"
  }
 },
 "nbformat": 4,
 "nbformat_minor": 5
}
